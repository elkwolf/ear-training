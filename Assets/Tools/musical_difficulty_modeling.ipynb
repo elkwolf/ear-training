{
 "cells": [
  {
   "cell_type": "markdown",
   "metadata": {},
   "source": [
    "## Modeling the musical difficulty"
   ]
  },
  {
   "cell_type": "code",
   "execution_count": 1,
   "metadata": {},
   "outputs": [],
   "source": [
    "import ipywidgets as widgets\n",
    "from ipywidgets import interact\n",
    "import matplotlib.pyplot as plt\n",
    "import seaborn as sns\n",
    "import numpy as np"
   ]
  },
  {
   "cell_type": "code",
   "execution_count": 2,
   "metadata": {},
   "outputs": [],
   "source": [
    "distributions = {\n",
    "    \"krumhansl_kessler\": [\n",
    "        0.15195022732711172, 0.0533620483369227, 0.08327351040918879,\n",
    "        0.05575496530270399, 0.10480976310122037, 0.09787030390045463,\n",
    "        0.06030150753768843, 0.1241923905240488, 0.05719071548217276,\n",
    "        0.08758076094759511, 0.05479779851639147, 0.06891600861450106,\n",
    "\n",
    "        0.14221523253201526, 0.06021118849696697, 0.07908335205571781,\n",
    "        0.12087171422152324, 0.05841383958660975, 0.07930802066951245,\n",
    "        0.05706582790384183, 0.1067175915524601, 0.08941810829027184,\n",
    "        0.06043585711076162, 0.07503931700741405, 0.07121995057290496\n",
    "    ],\n",
    "    \"aarden_essen\": [\n",
    "        0.17766092893562843, 0.001456239417504233, 0.1492649402940239,\n",
    "        0.0016018593592562562, 0.19804892078043168, 0.11358695456521818,\n",
    "        0.002912478835008466, 0.2206199117520353, 0.001456239417504233,\n",
    "        0.08154936738025305, 0.002329979068008373, 0.049512180195127924,\n",
    "\n",
    "        0.18264800547944018, 0.007376190221285707, 0.14049900421497014,\n",
    "        0.16859900505797015, 0.0070249402107482066, 0.14436200433086013,\n",
    "        0.0070249402107482066, 0.18616100558483017, 0.04566210136986304,\n",
    "        0.019318600579558018, 0.07376190221285707, 0.017562300526869017\n",
    "    ],\n",
    "    \"bellman_budge\": [\n",
    "        0.168, 0.0086, 0.1295, 0.0141, 0.1349, 0.1193,\n",
    "        0.0125, 0.2028, 0.018000000000000002, 0.0804, 0.0062, 0.1057,\n",
    "\n",
    "        0.1816, 0.0069, 0.12990000000000002,\n",
    "        0.1334, 0.010700000000000001, 0.1115,\n",
    "        0.0138, 0.2107, 0.07490000000000001,\n",
    "        0.015300000000000001, 0.0092, 0.10210000000000001\n",
    "    ],\n",
    "    \"temperley\": [\n",
    "        0.17616580310880825, 0.014130946773433817, 0.11493170042392838,\n",
    "        0.019312293923692884, 0.15779557230334432, 0.10833725859632594,\n",
    "        0.02260951483749411, 0.16839378238341965, 0.02449364107395195,\n",
    "        0.08619877531794629, 0.013424399434762127, 0.09420631182289213,\n",
    "\n",
    "        0.1702127659574468, 0.020081281377002155, 0.1133158020559407,\n",
    "        0.14774085584508725, 0.011714080803251255, 0.10996892182644036,\n",
    "        0.02510160172125269, 0.1785799665311977, 0.09658140090843893,\n",
    "        0.016017212526894576, 0.03179536218025341, 0.07889074826679417\n",
    "    ],\n",
    "    'albrecht_shanahan1': [\n",
    "        0.238, 0.006, 0.111, 0.006, 0.137, 0.094,\n",
    "        0.016, 0.214, 0.009, 0.080, 0.008, 0.081,\n",
    "\n",
    "         0.220, 0.006, 0.104, 0.123, 0.019, 0.103,\n",
    "         0.012, 0.214, 0.062, 0.022, 0.061, 0.052\n",
    "    ],\n",
    "    'albrecht_shanahan2': [\n",
    "        0.21169, 0.00892766, 0.120448, 0.0100265, 0.131444, 0.0911768, 0.0215947, 0.204703, 0.012894, 0.0900445, 0.012617, 0.0844338,\n",
    "\n",
    "        0.201933, 0.009335, 0.107284, 0.124169, 0.0199224, 0.108324,\n",
    "        0.014314, 0.202699, 0.0653907, 0.0252515, 0.071959, 0.049419\n",
    "    ]    \n",
    "}"
   ]
  },
  {
   "cell_type": "code",
   "execution_count": 3,
   "metadata": {},
   "outputs": [],
   "source": [
    "def scaled_distribution(orig_dist, h, d):\n",
    "    # make a copy of the original distribution\n",
    "    copy = np.array(orig_dist)\n",
    "    # compute the scaling factor based on handicap parameter and difficulty (user input)\n",
    "    scaling = h - (h * d)\n",
    "    # scale the distribution\n",
    "    copy = copy ** scaling\n",
    "    # norm-1 of the distribution\n",
    "    copy = copy / sum(copy)\n",
    "    return copy"
   ]
  },
  {
   "cell_type": "code",
   "execution_count": 4,
   "metadata": {},
   "outputs": [],
   "source": [
    "def f(dist_name, handicap, difficulty):\n",
    "    # create the figures\n",
    "    f, (axorig, axscaled) = plt.subplots(2, 2, sharey=True, sharex=True)    \n",
    "    # get the original distribution\n",
    "    dist = np.array(distributions[dist_name])\n",
    "    orig_major = dist[:12]\n",
    "    orig_minor = dist[12:]\n",
    "    # get the scaled distribution according to difficulty, handicap, and clipping\n",
    "    # scaled_dist = scaled_distribution(dist, handicap, difficulty)\n",
    "    scaled_major = scaled_distribution(orig_major, handicap, difficulty)\n",
    "    scaled_minor = scaled_distribution(orig_minor, handicap, difficulty)\n",
    "    \n",
    "    # prepare to plot\n",
    "    x = np.array(['C', 'C#', 'D', 'Eb', 'E', 'F',\n",
    "                  'F#', 'G', 'Ab', 'A', 'Bb', 'B'])    \n",
    "    sns.barplot(x=x, y=orig_major, ax=axorig[0])\n",
    "    axorig[0].set_ylabel(\"Original Major\")\n",
    "    sns.barplot(x=x, y=orig_minor, ax=axorig[1])\n",
    "    axorig[1].set_ylabel(\"Original Minor\")\n",
    "    sns.barplot(x=x, y=scaled_major, ax=axscaled[0])\n",
    "    axscaled[0].set_ylabel(\"Scaled Major\")\n",
    "    sns.barplot(x=x, y=scaled_minor, ax=axscaled[1])\n",
    "    axscaled[1].set_ylabel(\"Scaled Minor\")\n",
    "    "
   ]
  },
  {
   "cell_type": "code",
   "execution_count": 5,
   "metadata": {},
   "outputs": [
    {
     "data": {
      "application/vnd.jupyter.widget-view+json": {
       "model_id": "257b2c053a5a423aa2bfcf524067faa8",
       "version_major": 2,
       "version_minor": 0
      },
      "text/plain": [
       "interactive(children=(Dropdown(description='dist_name', options=('krumhansl_kessler', 'aarden_essen', 'bellman…"
      ]
     },
     "metadata": {},
     "output_type": "display_data"
    },
    {
     "data": {
      "text/plain": [
       "<function __main__.f(dist_name, handicap, difficulty)>"
      ]
     },
     "execution_count": 5,
     "metadata": {},
     "output_type": "execute_result"
    }
   ],
   "source": [
    "distribution_name = list(distributions.keys())\n",
    "handicap = widgets.IntSlider(min=1, max=10, continuous_update=False)\n",
    "difficulty = widgets.FloatSlider(min=0.0, max=1.0, step=0.01, continuous_update=False)\n",
    "interact(f, dist_name=distribution_name, handicap=handicap, difficulty=difficulty)"
   ]
  },
  {
   "cell_type": "code",
   "execution_count": null,
   "metadata": {},
   "outputs": [],
   "source": []
  }
 ],
 "metadata": {
  "kernelspec": {
   "display_name": "Python 3",
   "language": "python",
   "name": "python3"
  },
  "language_info": {
   "codemirror_mode": {
    "name": "ipython",
    "version": 3
   },
   "file_extension": ".py",
   "mimetype": "text/x-python",
   "name": "python",
   "nbconvert_exporter": "python",
   "pygments_lexer": "ipython3",
   "version": "3.7.3"
  }
 },
 "nbformat": 4,
 "nbformat_minor": 2
}
